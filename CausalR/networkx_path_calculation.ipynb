{
 "cells": [
  {
   "cell_type": "code",
   "execution_count": null,
   "id": "6bd4b4f1-cbc3-4f31-9b1d-678d4abb41d4",
   "metadata": {},
   "outputs": [],
   "source": [
    "import networkx as nx\n",
    "\n"
   ]
  },
  {
   "cell_type": "code",
   "execution_count": null,
   "id": "c317999c-4480-4c22-9eac-6169eef5bed0",
   "metadata": {},
   "outputs": [],
   "source": [
    "G = nx.Graph()\n",
    "with open('/Users/lpotarig/Library/CloudStorage/OneDrive-ImperialCollegeLondon/Student_projects/Imperial/MSc/Cancer_Informatics/Second_project/Yiran_2024/results/runSCAN_all/write_output/sif/all_interactions.sif', 'r') as file:\n",
    "    for line in file:\n",
    "        parts = line.strip().split('\\t')\n",
    "        if len(parts) >= 3:\n",
    "            source = parts[0]\n",
    "            target = parts[2]\n",
    "            interaction = parts[1]\n",
    "            G.add_edge(source, target, interaction=interaction)\n",
    "  \n",
    "\n"
   ]
  },
  {
   "cell_type": "code",
   "execution_count": null,
   "id": "0a3fd849-8b65-404d-8bd7-36a819f19214",
   "metadata": {},
   "outputs": [],
   "source": [
    "start_nodes = []\n",
    "with open(\"/Users/lpotarig/Library/CloudStorage/OneDrive-ImperialCollegeLondon/Student_projects/Imperial/MSc/Cancer_Informatics/Second_project/Yiran_2024/resource/upstream.input\") as starts:\n",
    "    for line in starts:\n",
    "        line = line.strip().split(\"\\t\")\n",
    "        start_nodes.append(line[0])\n"
   ]
  },
  {
   "cell_type": "code",
   "execution_count": null,
   "id": "3e1dceb5-6bcf-4575-ab0c-42232ef8df4d",
   "metadata": {},
   "outputs": [],
   "source": [
    "end_nodes = ['Q9UJU2','P35222','Q9H3D4','Q15466','P10071','Q13950','P50549','P58401','P35398','Q12778','Q99453','P10242','P05549','O00327','Q13516','P10275','P22415','Q16236','P26367','P17096','P53567','O15516','Q06413','Q02078','O00482','Q02548','P35453','O43524','P15976','Q12857','P11831','Q96QS3','O14813','P09086','P15923','P20823','Q10586','Q01196','P03372','Q9UH73','P19793','P08047','P04150','Q8IZQ8','P41235','Q14994','Q07869','Q99626']"
   ]
  },
  {
   "cell_type": "code",
   "execution_count": null,
   "id": "57701b40-4415-446e-b7d7-5729c82f7ef9",
   "metadata": {},
   "outputs": [],
   "source": [
    "all_paths = {}\n",
    "for start in start_nodes:\n",
    "    all_paths[start] = {}\n",
    "    for end in end_nodes:\n",
    "        if start != end:\n",
    "            if start in G:\n",
    "                paths = list(nx.all_simple_paths(G, source=start, target=end, cutoff=4))\n",
    "                all_paths[start][end] = paths\n"
   ]
  },
  {
   "cell_type": "code",
   "execution_count": null,
   "id": "2ac08033-f1bc-4e4a-a7f2-0bc5614a0942",
   "metadata": {},
   "outputs": [],
   "source": [
    "unique_interactions = set()\n",
    "with open('CausalR_final.sif', 'w') as file:\n",
    "    for start in all_paths:\n",
    "        for end in all_paths[start]:\n",
    "            for path in all_paths[start][end]:\n",
    "                for i in range(len(path) - 1):\n",
    "                    source = path[i]\n",
    "                    target = path[i + 1]\n",
    "                    interaction = G[source][target]['interaction']\n",
    "                    # Ensure each interaction is unique\n",
    "                    if (source, interaction, target) not in unique_interactions:\n",
    "                        file.write(f\"{source} {interaction} {target}\\n\")\n",
    "                        unique_interactions.add((source, interaction, target))\n",
    "                       "
   ]
  },
  {
   "cell_type": "code",
   "execution_count": null,
   "id": "d6f055a9-6a8d-4d5a-a213-92cc4010d43f",
   "metadata": {},
   "outputs": [],
   "source": [
    "import matplotlib.pyplot as plt\n",
    "import matplotlib.patches as patches\n",
    "from matplotlib.offsetbox import OffsetImage, AnnotationBbox\n"
   ]
  },
  {
   "cell_type": "code",
   "execution_count": null,
   "id": "9cfe4af2-33d0-4c29-9f92-4728220826c3",
   "metadata": {},
   "outputs": [],
   "source": []
  },
  {
   "cell_type": "code",
   "execution_count": null,
   "id": "08968dd0-ce04-4d3e-8b2c-e33278f723ec",
   "metadata": {},
   "outputs": [],
   "source": [
    "\n",
    "def draw_graphical_abstract():\n",
    "    fig, ax = plt.subplots(figsize=(12, 8))\n",
    "    ax.set_xlim(0, 10)\n",
    "    ax.set_ylim(0, 10)\n",
    "    ax.axis('off')\n",
    "\n",
    "    # Central gut illustration\n",
    "    gut_circle = patches.Circle((5, 5), 1.5, edgecolor='black', facecolor='none', lw=2)\n",
    "    ax.add_patch(gut_circle)\n",
    "    plt.text(5, 5, 'Gut', horizontalalignment='center', verticalalignment='center', fontsize=12, fontweight='bold')\n",
    "\n",
    "    # Microbiome illustration around the gut\n",
    "    microbiome_positions = [(3.5, 6.5), (4, 7.5), (6, 7.5), (6.5, 6.5)]\n",
    "    for pos in microbiome_positions:\n",
    "        microbe_circle = patches.Circle(pos, 0.3, edgecolor='black', facecolor='lightgreen', lw=1.5)\n",
    "        ax.add_patch(microbe_circle)\n",
    "        plt.text(pos[0], pos[1], 'Microbe', horizontalalignment='center', verticalalignment='center', fontsize=10)\n",
    "\n",
    "    # Omics illustrations\n",
    "    omics_positions = {\n",
    "        'Metagenomics': (1.5, 3), \n",
    "        'Metatranscriptomics': (3, 1.5), \n",
    "        'Metaproteomics': (7, 1.5), \n",
    "        'Metabolomics': (8.5, 3)\n",
    "    }\n",
    "    for omic, pos in omics_positions.items():\n",
    "        omic_rect = patches.Rectangle((pos[0]-0.5, pos[1]-0.5), 1, 1, edgecolor='blue', facecolor='lightblue', lw=1.5)\n",
    "        ax.add_patch(omic_rect)\n",
    "        plt.text(pos[0], pos[1], omic, horizontalalignment='center', verticalalignment='center', fontsize=10)\n",
    "\n",
    "    # Host omics illustrations\n",
    "    host_omics_positions = {\n",
    "        'Genomics': (1.5, 7), \n",
    "        'Transcriptomics': (3, 8.5), \n",
    "        'Proteomics': (7, 8.5)\n",
    "    }\n",
    "    for omic, pos in host_omics_positions.items():\n",
    "        omic_rect = patches.Rectangle((pos[0]-0.5, pos[1]-0.5), 1, 1, edgecolor='red', facecolor='lightcoral', lw=1.5)\n",
    "        ax.add_patch(omic_rect)\n",
    "        plt.text(pos[0], pos[1], omic, horizontalalignment='center', verticalalignment='center', fontsize=10)\n",
    "\n",
    "    # Integration arrows\n",
    "    integration_points = list(omics_positions.values()) + list(host_omics_positions.values())\n",
    "    for pos in integration_points:\n",
    "        ax.arrow(pos[0], pos[1], 3.5-pos[0], 5-pos[1], head_width=0.2, head_length=0.2, fc='gray', ec='gray')\n",
    "\n",
    "    # Central Integration Point\n",
    "    ax.scatter([5], [5], color='orange', s=200)\n",
    "    plt.text(5, 4.7, 'Data Integration & Analysis', horizontalalignment='center', fontsize=12, fontweight='bold')\n",
    "\n",
    "    # Tools and Databases\n",
    "    tool_positions = {\n",
    "        'PHI-base': (0.5, 5), \n",
    "        'HBNet': (1.5, 6), \n",
    "        'MicrobiomeDB': (2.5, 7), \n",
    "        'HMI-PRED': (7.5, 7), \n",
    "        'EffectiveDB': (8.5, 6), \n",
    "        'InterProScan': (9.5, 5)\n",
    "    }\n",
    "    for tool, pos in tool_positions.items():\n",
    "        tool_circle = patches.Circle(pos, 0.4, edgecolor='purple', facecolor='lavender', lw=1.5)\n",
    "        ax.add_patch(tool_circle)\n",
    "        plt.text(pos[0], pos[1], tool, horizontalalignment='center', verticalalignment='center', fontsize=8)\n",
    "\n",
    "    plt.title('Graphical Abstract: Integrating Multi-Omics Data to Study IBD', fontsize=14, fontweight='bold')\n",
    "    plt.show()\n",
    "\n",
    "draw_graphical_abstract()\n"
   ]
  },
  {
   "cell_type": "code",
   "execution_count": null,
   "id": "ddd6c3e5-6738-4742-bd71-57729839dc69",
   "metadata": {},
   "outputs": [],
   "source": []
  }
 ],
 "metadata": {
  "kernelspec": {
   "display_name": "Python 3 (ipykernel)",
   "language": "python",
   "name": "python3"
  },
  "language_info": {
   "codemirror_mode": {
    "name": "ipython",
    "version": 3
   },
   "file_extension": ".py",
   "mimetype": "text/x-python",
   "name": "python",
   "nbconvert_exporter": "python",
   "pygments_lexer": "ipython3",
   "version": "3.9.19"
  }
 },
 "nbformat": 4,
 "nbformat_minor": 5
}
